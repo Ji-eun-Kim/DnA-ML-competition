{
 "cells": [
  {
   "cell_type": "code",
   "execution_count": 13,
   "id": "eb337682",
   "metadata": {},
   "outputs": [],
   "source": [
    "%matplotlib inline\n",
    "import warnings\n",
    "warnings.filterwarnings(\"ignore\")\n",
    "\n",
    "import pandas as pd\n",
    "import numpy as np\n",
    "import matplotlib.pyplot as plt\n",
    "import seaborn as sns\n",
    "import klib\n",
    "from sklearn.pipeline import Pipeline\n",
    "from sklearn.compose import ColumnTransformer\n",
    "from sklearn.preprocessing import FunctionTransformer\n",
    "from sklearn.base import BaseEstimator, TransformerMixin\n",
    "from sklearn.impute import SimpleImputer\n",
    "from sklearn.preprocessing import PowerTransformer \n",
    "from sklearn.preprocessing import OrdinalEncoder\n",
    "from sklearn.feature_selection import SelectPercentile\n",
    "from sklearn.feature_selection import SelectFromModel\n",
    "from sklearn.feature_selection import RFE\n",
    "from sklearn.model_selection import train_test_split, KFold\n",
    "from sklearn.model_selection import StratifiedKFold\n",
    "from sklearn.model_selection import GridSearchCV\n",
    "from sklearn.model_selection import RandomizedSearchCV\n",
    "from sklearn.metrics import mean_squared_error\n",
    "from sklearn.metrics import log_loss\n",
    "from sklearn import set_config\n",
    "from sklearn.preprocessing import StandardScaler\n",
    "from sklearn.preprocessing import MinMaxScaler\n",
    "from sklearn.preprocessing import LabelEncoder\n",
    "from sklearn.tree import DecisionTreeClassifier\n",
    "from sklearn.ensemble import RandomForestClassifier\n",
    "from sklearn.ensemble import AdaBoostClassifier\n",
    "from sklearn.ensemble import GradientBoostingClassifier\n",
    "from xgboost import XGBClassifier\n",
    "from lightgbm import LGBMClassifier\n",
    "from catboost import CatBoostRegressor\n",
    "from catboost import CatBoostClassifier\n",
    "from catboost import Pool\n",
    "from category_encoders import CatBoostEncoder\n",
    "from sklearn.manifold import TSNE\n",
    "\n",
    "plt.rc('font', family='malgun gothic')\n",
    "plt.rc('axes', unicode_minus=False)"
   ]
  },
  {
   "cell_type": "code",
   "execution_count": 15,
   "id": "9ab7a39d",
   "metadata": {},
   "outputs": [],
   "source": [
    "train = pd.read_csv('train.csv')\n",
    "test = pd.read_csv('test.csv')"
   ]
  },
  {
   "cell_type": "code",
   "execution_count": 16,
   "id": "ed2a4789",
   "metadata": {},
   "outputs": [],
   "source": [
    "num = ['child_num', 'income_total', 'DAYS_BIRTH','DAYS_EMPLOYED', 'family_size', 'begin_month']\n",
    "cat = ['gender', 'car', 'reality','income_type', 'edu_type', 'family_type', 'house_type', 'work_phone', 'phone', 'email','occyp_type']"
   ]
  },
  {
   "cell_type": "code",
   "execution_count": 17,
   "id": "77b1e8b4",
   "metadata": {},
   "outputs": [],
   "source": [
    "# index(인덱스번호), FLAG_MOBIL(핸드폰 소유 여부) 컬럼 삭제\n",
    "\n",
    "train = train.drop(columns = ['index', 'FLAG_MOBIL'])\n",
    "test = test.drop(columns = ['index', 'FLAG_MOBIL'])"
   ]
  },
  {
   "cell_type": "markdown",
   "id": "09d4752c",
   "metadata": {},
   "source": [
    "## <font color = mediumblue> ** 결측치 처리 **"
   ]
  },
  {
   "cell_type": "code",
   "execution_count": 18,
   "id": "eded9043",
   "metadata": {
    "scrolled": false
   },
   "outputs": [],
   "source": [
    "# 고용되지 않은 사람 -> 'unemployed'로 처리\n",
    "\n",
    "train.loc[train['DAYS_EMPLOYED'] > 0,'occyp_type'] = 'unemployed'\n",
    "test.loc[test['DAYS_EMPLOYED'] > 0,'occyp_type'] = 'unemployed'"
   ]
  },
  {
   "cell_type": "code",
   "execution_count": 19,
   "id": "29135502",
   "metadata": {},
   "outputs": [],
   "source": [
    "train = train.fillna('NaN')\n",
    "test = test.fillna('NaN')"
   ]
  },
  {
   "cell_type": "markdown",
   "id": "ba53ff69",
   "metadata": {},
   "source": [
    "## <font color = mediumblue> ** 이상치 처리 **"
   ]
  },
  {
   "cell_type": "markdown",
   "id": "4e866d6c",
   "metadata": {},
   "source": [
    "#### 이상치 처리 전 ID 열 생성"
   ]
  },
  {
   "cell_type": "code",
   "execution_count": 25,
   "id": "3090e315",
   "metadata": {},
   "outputs": [],
   "source": [
    "info = ['gender', 'car', 'reality', 'child_num', 'income_total', 'income_type','edu_type', 'family_type', 'house_type', 'DAYS_BIRTH', 'DAYS_EMPLOYED','work_phone', 'phone', 'email', 'occyp_type', 'family_size']\n",
    "\n",
    "train_customer = train.drop_duplicates(info)\n",
    "\n",
    "train_customer.insert(0, 'ID', np.arange(0, len(train_customer)))\n",
    "train_customer = train_customer.drop(columns=['begin_month', 'credit'])\n",
    "\n",
    "train = pd.merge(train_customer, train , how='right', on=info)\n",
    "\n",
    "test_customer = test.drop_duplicates(info)\n",
    "\n",
    "test_customer.insert(0, 'ID', np.arange(0, len(test_customer)))\n",
    "test_customer = test_customer.drop(columns=['begin_month'])\n",
    "\n",
    "test = pd.merge(test_customer, test , how='right', on=info)"
   ]
  },
  {
   "cell_type": "markdown",
   "id": "972d640c",
   "metadata": {},
   "source": [
    "####  DAYS_BIRTH ,  begin_month"
   ]
  },
  {
   "cell_type": "code",
   "execution_count": 26,
   "id": "e9ab521f",
   "metadata": {},
   "outputs": [],
   "source": [
    "# 음수 -> 양수로 변환\n",
    "\n",
    "train['DAYS_BIRTH'] = train['DAYS_BIRTH'] * -1\n",
    "test['DAYS_BIRTH'] = test['DAYS_BIRTH'] * -1\n",
    "\n",
    "train['begin_month'] = train['begin_month'] * -1\n",
    "test['begin_month'] = test['begin_month'] * -1"
   ]
  },
  {
   "cell_type": "markdown",
   "id": "1d7d0d12",
   "metadata": {},
   "source": [
    "#### DAYS_EMPLOYED "
   ]
  },
  {
   "cell_type": "code",
   "execution_count": 27,
   "id": "72786858",
   "metadata": {},
   "outputs": [],
   "source": [
    "# 고용되지 않은 사람 0으로 처리\n",
    "\n",
    "train.loc[train['DAYS_EMPLOYED']>0, 'DAYS_EMPLOYED'] = 0\n",
    "test.loc[test['DAYS_EMPLOYED']>0, 'DAYS_EMPLOYED'] = 0"
   ]
  },
  {
   "cell_type": "code",
   "execution_count": 28,
   "id": "13928fed",
   "metadata": {},
   "outputs": [],
   "source": [
    "# 음수 -> 양수로 변환\n",
    "\n",
    "train['DAYS_EMPLOYED'] = train['DAYS_EMPLOYED'] * -1\n",
    "test['DAYS_EMPLOYED'] = test['DAYS_EMPLOYED'] * -1"
   ]
  },
  {
   "cell_type": "code",
   "execution_count": 30,
   "id": "64dce544",
   "metadata": {},
   "outputs": [],
   "source": [
    "train.loc[train['child_num'] > 7, 'child_num']= 7\n",
    "test.loc[test['child_num'] > 7, 'child_num']= 7"
   ]
  },
  {
   "cell_type": "code",
   "execution_count": 31,
   "id": "16d77b95",
   "metadata": {},
   "outputs": [],
   "source": [
    "train.loc[train['family_size'] > 9, 'family_size']= 9\n",
    "test.loc[test['family_size'] > 9, 'family_size']= 9"
   ]
  },
  {
   "cell_type": "markdown",
   "id": "e8d52847",
   "metadata": {},
   "source": [
    "#### 표준화한 값의 절댓값이 3이상인 데이터 대체"
   ]
  },
  {
   "cell_type": "code",
   "execution_count": 29,
   "id": "40d721b9",
   "metadata": {
    "scrolled": false
   },
   "outputs": [
    {
     "data": {
      "text/html": [
       "<div>\n",
       "<style scoped>\n",
       "    .dataframe tbody tr th:only-of-type {\n",
       "        vertical-align: middle;\n",
       "    }\n",
       "\n",
       "    .dataframe tbody tr th {\n",
       "        vertical-align: top;\n",
       "    }\n",
       "\n",
       "    .dataframe thead th {\n",
       "        text-align: right;\n",
       "    }\n",
       "</style>\n",
       "<table border=\"1\" class=\"dataframe\">\n",
       "  <thead>\n",
       "    <tr style=\"text-align: right;\">\n",
       "      <th></th>\n",
       "      <th>child_num</th>\n",
       "      <th>income_total</th>\n",
       "      <th>DAYS_BIRTH</th>\n",
       "      <th>DAYS_EMPLOYED</th>\n",
       "      <th>family_size</th>\n",
       "      <th>begin_month</th>\n",
       "    </tr>\n",
       "  </thead>\n",
       "  <tbody>\n",
       "    <tr>\n",
       "      <th>count</th>\n",
       "      <td>26457.000000</td>\n",
       "      <td>2.645700e+04</td>\n",
       "      <td>26457.000000</td>\n",
       "      <td>26457.000000</td>\n",
       "      <td>26457.000000</td>\n",
       "      <td>26457.000000</td>\n",
       "    </tr>\n",
       "    <tr>\n",
       "      <th>mean</th>\n",
       "      <td>0.428658</td>\n",
       "      <td>1.873065e+05</td>\n",
       "      <td>15958.053899</td>\n",
       "      <td>2198.529538</td>\n",
       "      <td>2.196848</td>\n",
       "      <td>26.123294</td>\n",
       "    </tr>\n",
       "    <tr>\n",
       "      <th>std</th>\n",
       "      <td>0.747326</td>\n",
       "      <td>1.018784e+05</td>\n",
       "      <td>4201.589022</td>\n",
       "      <td>2370.140530</td>\n",
       "      <td>0.916717</td>\n",
       "      <td>16.559550</td>\n",
       "    </tr>\n",
       "    <tr>\n",
       "      <th>min</th>\n",
       "      <td>0.000000</td>\n",
       "      <td>2.700000e+04</td>\n",
       "      <td>7705.000000</td>\n",
       "      <td>0.000000</td>\n",
       "      <td>1.000000</td>\n",
       "      <td>-0.000000</td>\n",
       "    </tr>\n",
       "    <tr>\n",
       "      <th>25%</th>\n",
       "      <td>0.000000</td>\n",
       "      <td>1.215000e+05</td>\n",
       "      <td>12446.000000</td>\n",
       "      <td>407.000000</td>\n",
       "      <td>2.000000</td>\n",
       "      <td>12.000000</td>\n",
       "    </tr>\n",
       "    <tr>\n",
       "      <th>50%</th>\n",
       "      <td>0.000000</td>\n",
       "      <td>1.575000e+05</td>\n",
       "      <td>15547.000000</td>\n",
       "      <td>1539.000000</td>\n",
       "      <td>2.000000</td>\n",
       "      <td>24.000000</td>\n",
       "    </tr>\n",
       "    <tr>\n",
       "      <th>75%</th>\n",
       "      <td>1.000000</td>\n",
       "      <td>2.250000e+05</td>\n",
       "      <td>19431.000000</td>\n",
       "      <td>3153.000000</td>\n",
       "      <td>3.000000</td>\n",
       "      <td>39.000000</td>\n",
       "    </tr>\n",
       "    <tr>\n",
       "      <th>max</th>\n",
       "      <td>19.000000</td>\n",
       "      <td>1.575000e+06</td>\n",
       "      <td>25152.000000</td>\n",
       "      <td>15713.000000</td>\n",
       "      <td>20.000000</td>\n",
       "      <td>60.000000</td>\n",
       "    </tr>\n",
       "  </tbody>\n",
       "</table>\n",
       "</div>"
      ],
      "text/plain": [
       "          child_num  income_total    DAYS_BIRTH  DAYS_EMPLOYED   family_size  \\\n",
       "count  26457.000000  2.645700e+04  26457.000000   26457.000000  26457.000000   \n",
       "mean       0.428658  1.873065e+05  15958.053899    2198.529538      2.196848   \n",
       "std        0.747326  1.018784e+05   4201.589022    2370.140530      0.916717   \n",
       "min        0.000000  2.700000e+04   7705.000000       0.000000      1.000000   \n",
       "25%        0.000000  1.215000e+05  12446.000000     407.000000      2.000000   \n",
       "50%        0.000000  1.575000e+05  15547.000000    1539.000000      2.000000   \n",
       "75%        1.000000  2.250000e+05  19431.000000    3153.000000      3.000000   \n",
       "max       19.000000  1.575000e+06  25152.000000   15713.000000     20.000000   \n",
       "\n",
       "        begin_month  \n",
       "count  26457.000000  \n",
       "mean      26.123294  \n",
       "std       16.559550  \n",
       "min       -0.000000  \n",
       "25%       12.000000  \n",
       "50%       24.000000  \n",
       "75%       39.000000  \n",
       "max       60.000000  "
      ]
     },
     "execution_count": 29,
     "metadata": {},
     "output_type": "execute_result"
    }
   ],
   "source": [
    "train[num].describe()"
   ]
  },
  {
   "cell_type": "code",
   "execution_count": 32,
   "id": "05a935e7",
   "metadata": {},
   "outputs": [],
   "source": [
    "# 표준화한 값의 절댓값이 3 이상인 데이터를 clip을 활용해 대체하는 함수\n",
    "\n",
    "def z_score_outlier(col):\n",
    "    \n",
    "    n_std =  np.std(train[col])\n",
    "    n_mean = np.mean(train[col])\n",
    "    \n",
    "    upper = (3*n_std) + n_mean # 표준화 했을 때의 값이 3\n",
    "    lower = ((-3)*n_std) + n_mean # 표준화 했을 때의 값이 -3\n",
    "    \n",
    "    train[col] = train[col].clip(lower=lower, upper=upper)\n",
    "    test[col] = test[col].clip(lower=lower, upper=upper)"
   ]
  },
  {
   "cell_type": "code",
   "execution_count": 33,
   "id": "b06eea90",
   "metadata": {},
   "outputs": [],
   "source": [
    "# 함수에 적용\n",
    "\n",
    "z_score_outlier('income_total')"
   ]
  },
  {
   "cell_type": "code",
   "execution_count": 34,
   "id": "9fcb64b9",
   "metadata": {},
   "outputs": [
    {
     "data": {
      "text/html": [
       "<div>\n",
       "<style scoped>\n",
       "    .dataframe tbody tr th:only-of-type {\n",
       "        vertical-align: middle;\n",
       "    }\n",
       "\n",
       "    .dataframe tbody tr th {\n",
       "        vertical-align: top;\n",
       "    }\n",
       "\n",
       "    .dataframe thead th {\n",
       "        text-align: right;\n",
       "    }\n",
       "</style>\n",
       "<table border=\"1\" class=\"dataframe\">\n",
       "  <thead>\n",
       "    <tr style=\"text-align: right;\">\n",
       "      <th></th>\n",
       "      <th>child_num</th>\n",
       "      <th>income_total</th>\n",
       "      <th>DAYS_BIRTH</th>\n",
       "      <th>DAYS_EMPLOYED</th>\n",
       "      <th>family_size</th>\n",
       "      <th>begin_month</th>\n",
       "    </tr>\n",
       "  </thead>\n",
       "  <tbody>\n",
       "    <tr>\n",
       "      <th>count</th>\n",
       "      <td>26457.000000</td>\n",
       "      <td>26457.000000</td>\n",
       "      <td>26457.000000</td>\n",
       "      <td>26457.000000</td>\n",
       "      <td>26457.000000</td>\n",
       "      <td>26457.000000</td>\n",
       "    </tr>\n",
       "    <tr>\n",
       "      <th>mean</th>\n",
       "      <td>0.427411</td>\n",
       "      <td>184830.586410</td>\n",
       "      <td>15958.053899</td>\n",
       "      <td>2198.529538</td>\n",
       "      <td>2.195752</td>\n",
       "      <td>26.123294</td>\n",
       "    </tr>\n",
       "    <tr>\n",
       "      <th>std</th>\n",
       "      <td>0.728768</td>\n",
       "      <td>89387.516632</td>\n",
       "      <td>4201.589022</td>\n",
       "      <td>2370.140530</td>\n",
       "      <td>0.903769</td>\n",
       "      <td>16.559550</td>\n",
       "    </tr>\n",
       "    <tr>\n",
       "      <th>min</th>\n",
       "      <td>0.000000</td>\n",
       "      <td>27000.000000</td>\n",
       "      <td>7705.000000</td>\n",
       "      <td>0.000000</td>\n",
       "      <td>1.000000</td>\n",
       "      <td>-0.000000</td>\n",
       "    </tr>\n",
       "    <tr>\n",
       "      <th>25%</th>\n",
       "      <td>0.000000</td>\n",
       "      <td>121500.000000</td>\n",
       "      <td>12446.000000</td>\n",
       "      <td>407.000000</td>\n",
       "      <td>2.000000</td>\n",
       "      <td>12.000000</td>\n",
       "    </tr>\n",
       "    <tr>\n",
       "      <th>50%</th>\n",
       "      <td>0.000000</td>\n",
       "      <td>157500.000000</td>\n",
       "      <td>15547.000000</td>\n",
       "      <td>1539.000000</td>\n",
       "      <td>2.000000</td>\n",
       "      <td>24.000000</td>\n",
       "    </tr>\n",
       "    <tr>\n",
       "      <th>75%</th>\n",
       "      <td>1.000000</td>\n",
       "      <td>225000.000000</td>\n",
       "      <td>19431.000000</td>\n",
       "      <td>3153.000000</td>\n",
       "      <td>3.000000</td>\n",
       "      <td>39.000000</td>\n",
       "    </tr>\n",
       "    <tr>\n",
       "      <th>max</th>\n",
       "      <td>7.000000</td>\n",
       "      <td>492935.852351</td>\n",
       "      <td>25152.000000</td>\n",
       "      <td>15713.000000</td>\n",
       "      <td>9.000000</td>\n",
       "      <td>60.000000</td>\n",
       "    </tr>\n",
       "  </tbody>\n",
       "</table>\n",
       "</div>"
      ],
      "text/plain": [
       "          child_num   income_total    DAYS_BIRTH  DAYS_EMPLOYED   family_size  \\\n",
       "count  26457.000000   26457.000000  26457.000000   26457.000000  26457.000000   \n",
       "mean       0.427411  184830.586410  15958.053899    2198.529538      2.195752   \n",
       "std        0.728768   89387.516632   4201.589022    2370.140530      0.903769   \n",
       "min        0.000000   27000.000000   7705.000000       0.000000      1.000000   \n",
       "25%        0.000000  121500.000000  12446.000000     407.000000      2.000000   \n",
       "50%        0.000000  157500.000000  15547.000000    1539.000000      2.000000   \n",
       "75%        1.000000  225000.000000  19431.000000    3153.000000      3.000000   \n",
       "max        7.000000  492935.852351  25152.000000   15713.000000      9.000000   \n",
       "\n",
       "        begin_month  \n",
       "count  26457.000000  \n",
       "mean      26.123294  \n",
       "std       16.559550  \n",
       "min       -0.000000  \n",
       "25%       12.000000  \n",
       "50%       24.000000  \n",
       "75%       39.000000  \n",
       "max       60.000000  "
      ]
     },
     "execution_count": 34,
     "metadata": {},
     "output_type": "execute_result"
    }
   ],
   "source": [
    "train[num].describe()"
   ]
  },
  {
   "cell_type": "markdown",
   "id": "11ffff16",
   "metadata": {},
   "source": [
    "## <font color = mediumblue> ** Feature 생성 **"
   ]
  },
  {
   "cell_type": "code",
   "execution_count": 35,
   "id": "59b9d2b8",
   "metadata": {
    "scrolled": true
   },
   "outputs": [
    {
     "data": {
      "text/html": [
       "<div>\n",
       "<style scoped>\n",
       "    .dataframe tbody tr th:only-of-type {\n",
       "        vertical-align: middle;\n",
       "    }\n",
       "\n",
       "    .dataframe tbody tr th {\n",
       "        vertical-align: top;\n",
       "    }\n",
       "\n",
       "    .dataframe thead th {\n",
       "        text-align: right;\n",
       "    }\n",
       "</style>\n",
       "<table border=\"1\" class=\"dataframe\">\n",
       "  <thead>\n",
       "    <tr style=\"text-align: right;\">\n",
       "      <th></th>\n",
       "      <th>ID</th>\n",
       "      <th>gender</th>\n",
       "      <th>car</th>\n",
       "      <th>reality</th>\n",
       "      <th>child_num</th>\n",
       "      <th>income_total</th>\n",
       "      <th>income_type</th>\n",
       "      <th>edu_type</th>\n",
       "      <th>family_type</th>\n",
       "      <th>house_type</th>\n",
       "      <th>DAYS_BIRTH</th>\n",
       "      <th>DAYS_EMPLOYED</th>\n",
       "      <th>work_phone</th>\n",
       "      <th>phone</th>\n",
       "      <th>email</th>\n",
       "      <th>occyp_type</th>\n",
       "      <th>family_size</th>\n",
       "      <th>begin_month</th>\n",
       "      <th>credit</th>\n",
       "    </tr>\n",
       "  </thead>\n",
       "  <tbody>\n",
       "    <tr>\n",
       "      <th>0</th>\n",
       "      <td>0</td>\n",
       "      <td>F</td>\n",
       "      <td>N</td>\n",
       "      <td>N</td>\n",
       "      <td>0</td>\n",
       "      <td>202500.0</td>\n",
       "      <td>Commercial associate</td>\n",
       "      <td>Higher education</td>\n",
       "      <td>Married</td>\n",
       "      <td>Municipal apartment</td>\n",
       "      <td>13899</td>\n",
       "      <td>4709</td>\n",
       "      <td>0</td>\n",
       "      <td>0</td>\n",
       "      <td>0</td>\n",
       "      <td>NaN</td>\n",
       "      <td>2.0</td>\n",
       "      <td>6.0</td>\n",
       "      <td>1.0</td>\n",
       "    </tr>\n",
       "    <tr>\n",
       "      <th>1</th>\n",
       "      <td>1</td>\n",
       "      <td>F</td>\n",
       "      <td>N</td>\n",
       "      <td>Y</td>\n",
       "      <td>1</td>\n",
       "      <td>247500.0</td>\n",
       "      <td>Commercial associate</td>\n",
       "      <td>Secondary / secondary special</td>\n",
       "      <td>Civil marriage</td>\n",
       "      <td>House / apartment</td>\n",
       "      <td>11380</td>\n",
       "      <td>1540</td>\n",
       "      <td>0</td>\n",
       "      <td>0</td>\n",
       "      <td>1</td>\n",
       "      <td>Laborers</td>\n",
       "      <td>3.0</td>\n",
       "      <td>5.0</td>\n",
       "      <td>1.0</td>\n",
       "    </tr>\n",
       "    <tr>\n",
       "      <th>2</th>\n",
       "      <td>2</td>\n",
       "      <td>M</td>\n",
       "      <td>Y</td>\n",
       "      <td>Y</td>\n",
       "      <td>0</td>\n",
       "      <td>450000.0</td>\n",
       "      <td>Working</td>\n",
       "      <td>Higher education</td>\n",
       "      <td>Married</td>\n",
       "      <td>House / apartment</td>\n",
       "      <td>19087</td>\n",
       "      <td>4434</td>\n",
       "      <td>0</td>\n",
       "      <td>1</td>\n",
       "      <td>0</td>\n",
       "      <td>Managers</td>\n",
       "      <td>2.0</td>\n",
       "      <td>22.0</td>\n",
       "      <td>2.0</td>\n",
       "    </tr>\n",
       "    <tr>\n",
       "      <th>3</th>\n",
       "      <td>3</td>\n",
       "      <td>F</td>\n",
       "      <td>N</td>\n",
       "      <td>Y</td>\n",
       "      <td>0</td>\n",
       "      <td>202500.0</td>\n",
       "      <td>Commercial associate</td>\n",
       "      <td>Secondary / secondary special</td>\n",
       "      <td>Married</td>\n",
       "      <td>House / apartment</td>\n",
       "      <td>15088</td>\n",
       "      <td>2092</td>\n",
       "      <td>0</td>\n",
       "      <td>1</td>\n",
       "      <td>0</td>\n",
       "      <td>Sales staff</td>\n",
       "      <td>2.0</td>\n",
       "      <td>37.0</td>\n",
       "      <td>0.0</td>\n",
       "    </tr>\n",
       "    <tr>\n",
       "      <th>4</th>\n",
       "      <td>4</td>\n",
       "      <td>F</td>\n",
       "      <td>Y</td>\n",
       "      <td>Y</td>\n",
       "      <td>0</td>\n",
       "      <td>157500.0</td>\n",
       "      <td>State servant</td>\n",
       "      <td>Higher education</td>\n",
       "      <td>Married</td>\n",
       "      <td>House / apartment</td>\n",
       "      <td>15037</td>\n",
       "      <td>2105</td>\n",
       "      <td>0</td>\n",
       "      <td>0</td>\n",
       "      <td>0</td>\n",
       "      <td>Managers</td>\n",
       "      <td>2.0</td>\n",
       "      <td>26.0</td>\n",
       "      <td>2.0</td>\n",
       "    </tr>\n",
       "  </tbody>\n",
       "</table>\n",
       "</div>"
      ],
      "text/plain": [
       "   ID gender car reality  child_num  income_total           income_type  \\\n",
       "0   0      F   N       N          0      202500.0  Commercial associate   \n",
       "1   1      F   N       Y          1      247500.0  Commercial associate   \n",
       "2   2      M   Y       Y          0      450000.0               Working   \n",
       "3   3      F   N       Y          0      202500.0  Commercial associate   \n",
       "4   4      F   Y       Y          0      157500.0         State servant   \n",
       "\n",
       "                        edu_type     family_type           house_type  \\\n",
       "0               Higher education         Married  Municipal apartment   \n",
       "1  Secondary / secondary special  Civil marriage    House / apartment   \n",
       "2               Higher education         Married    House / apartment   \n",
       "3  Secondary / secondary special         Married    House / apartment   \n",
       "4               Higher education         Married    House / apartment   \n",
       "\n",
       "   DAYS_BIRTH  DAYS_EMPLOYED  work_phone  phone  email   occyp_type  \\\n",
       "0       13899           4709           0      0      0          NaN   \n",
       "1       11380           1540           0      0      1     Laborers   \n",
       "2       19087           4434           0      1      0     Managers   \n",
       "3       15088           2092           0      1      0  Sales staff   \n",
       "4       15037           2105           0      0      0     Managers   \n",
       "\n",
       "   family_size  begin_month  credit  \n",
       "0          2.0          6.0     1.0  \n",
       "1          3.0          5.0     1.0  \n",
       "2          2.0         22.0     2.0  \n",
       "3          2.0         37.0     0.0  \n",
       "4          2.0         26.0     2.0  "
      ]
     },
     "execution_count": 35,
     "metadata": {},
     "output_type": "execute_result"
    }
   ],
   "source": [
    "train.head()"
   ]
  },
  {
   "cell_type": "markdown",
   "id": "9963f2f8",
   "metadata": {},
   "source": [
    "<font color = 'navy'>**income/family** <font color = 'black'>-> 평균 소득"
   ]
  },
  {
   "cell_type": "code",
   "execution_count": 36,
   "id": "08b6288c",
   "metadata": {},
   "outputs": [],
   "source": [
    "train['income/family'] = train['income_total'] / (train['family_size']+1)\n",
    "test['income/family'] = test['income_total'] / (test['family_size']+1)"
   ]
  },
  {
   "cell_type": "markdown",
   "id": "e3d8ba77",
   "metadata": {},
   "source": [
    " <font color = 'navy'> **adult_num** <font color = 'black'> -> 어른 수"
   ]
  },
  {
   "cell_type": "code",
   "execution_count": 37,
   "id": "67063591",
   "metadata": {},
   "outputs": [],
   "source": [
    "train['adult_num'] = train['family_size'] - train['child_num']\n",
    "test['adult_num'] = test['family_size'] - test['child_num']"
   ]
  },
  {
   "cell_type": "markdown",
   "id": "5edad79d",
   "metadata": {},
   "source": [
    "<font color = 'navy'>**age** <font color = 'black'>-> 나이"
   ]
  },
  {
   "cell_type": "code",
   "execution_count": 38,
   "id": "750f5974",
   "metadata": {},
   "outputs": [],
   "source": [
    "train['age'] = train['DAYS_BIRTH'] // 365\n",
    "test['age'] = test['DAYS_BIRTH'] // 365"
   ]
  },
  {
   "cell_type": "markdown",
   "id": "981e4cff",
   "metadata": {},
   "source": [
    " <font color = 'navy'> **EMPLOYED** -> <font color = 'black'>업무 시작 여부"
   ]
  },
  {
   "cell_type": "code",
   "execution_count": 39,
   "id": "69d846c2",
   "metadata": {},
   "outputs": [],
   "source": [
    "train['EMPLOYED'] = 0\n",
    "test['EMPLOYED'] = 0\n",
    "\n",
    "train.loc[train['DAYS_EMPLOYED'] > 0, 'EMPLOYED'] = 1\n",
    "test.loc[test['DAYS_EMPLOYED'] > 0, 'EMPLOYED'] = 1"
   ]
  },
  {
   "cell_type": "markdown",
   "id": "dcd4fc94",
   "metadata": {},
   "source": [
    "<font color = 'navy'> **MONTH_EMPLOYED**  <font color = 'black'> -> 고용된 지 몇 달 지났는지"
   ]
  },
  {
   "cell_type": "code",
   "execution_count": 40,
   "id": "5f0b5166",
   "metadata": {},
   "outputs": [],
   "source": [
    "train['MONTH_EMPLOYED'] = train['DAYS_EMPLOYED'] // 30\n",
    "test['MONTH_EMPLOYED'] = test['DAYS_EMPLOYED'] // 30"
   ]
  },
  {
   "cell_type": "markdown",
   "id": "566c4a3f",
   "metadata": {},
   "source": [
    " <font color = 'navy'> **YEAR_EMPLOYED**  <font color = 'black'> -> 고용된 지 몇 년 지났는 지"
   ]
  },
  {
   "cell_type": "code",
   "execution_count": 41,
   "id": "b8731f4c",
   "metadata": {},
   "outputs": [],
   "source": [
    "train['YEAR_EMPLOYED'] = train['DAYS_EMPLOYED'] // 365\n",
    "test['YEAR_EMPLOYED'] = test['DAYS_EMPLOYED'] // 365"
   ]
  },
  {
   "cell_type": "markdown",
   "id": "99516d88",
   "metadata": {},
   "source": [
    "<font color = 'navy'> **YEAR_EMPLOYED_q** <font color = 'black'> -> YEAR_EMPLOYED_q 사분위"
   ]
  },
  {
   "cell_type": "code",
   "execution_count": 42,
   "id": "186f597e",
   "metadata": {},
   "outputs": [],
   "source": [
    "q1, q2, q3 = train['YEAR_EMPLOYED'].quantile([0.25, 0.5, 0.75])\n",
    "\n",
    "train['YEAR_EMPLOYED_q'] = train['YEAR_EMPLOYED'].apply(lambda x: 0 if x<q1 else 1 if x<q2 else 2 if x<q3 else 3)\n",
    "test['YEAR_EMPLOYED_q'] = test['YEAR_EMPLOYED'].apply(lambda x: 0 if x<q1 else 1 if x<q2 else 2 if x<q3 else 3)"
   ]
  },
  {
   "cell_type": "markdown",
   "id": "1e2d1613",
   "metadata": {},
   "source": [
    " <font color = 'navy'> **DAYS_UNEMPLOYED** <font color = 'black'> -> 고용되기 시작한 일"
   ]
  },
  {
   "cell_type": "code",
   "execution_count": 43,
   "id": "0882dce4",
   "metadata": {},
   "outputs": [],
   "source": [
    "train['DAYS_UNEMPLOYED'] = train['DAYS_BIRTH'] - train['DAYS_EMPLOYED']\n",
    "test['DAYS_UNEMPLOYED'] = test['DAYS_BIRTH'] - test['DAYS_EMPLOYED']"
   ]
  },
  {
   "cell_type": "markdown",
   "id": "3ecaf8d8",
   "metadata": {},
   "source": [
    "<font color = 'navy'> **GCR** <font color = 'black'> ->  gender, car, reality 합친 범주"
   ]
  },
  {
   "cell_type": "code",
   "execution_count": 44,
   "id": "9b412a6e",
   "metadata": {},
   "outputs": [],
   "source": [
    "train['GCR'] = train.gender + train.car + train.reality\n",
    "test['GCR'] = test.gender + test.car+ test.reality"
   ]
  },
  {
   "cell_type": "markdown",
   "id": "5fb53dcc",
   "metadata": {},
   "source": [
    "<font color = 'navy'> **WPE** <font color = 'black'> -> work_phone, phone, email 열 더한 feature"
   ]
  },
  {
   "cell_type": "code",
   "execution_count": 45,
   "id": "4eafe72b",
   "metadata": {},
   "outputs": [],
   "source": [
    "train['WPE'] = train.work_phone + train.phone + train.email\n",
    "test['WPE'] = test.work_phone + test.phone + test.email"
   ]
  },
  {
   "cell_type": "markdown",
   "id": "0b6fc315",
   "metadata": {},
   "source": [
    "<font color = 'navy'> **reality_house** <font color = 'black'> -> reality, house type 문자열로 연결하여 부동산 소유여부, 생활방식 합친 feature"
   ]
  },
  {
   "cell_type": "code",
   "execution_count": 46,
   "id": "00dc6b60",
   "metadata": {
    "scrolled": true
   },
   "outputs": [],
   "source": [
    "train['reality_house'] = train.reality +'_'+ train.house_type\n",
    "test['reality_house'] = test.reality +'_'+ test.house_type"
   ]
  },
  {
   "cell_type": "markdown",
   "id": "94be6d39",
   "metadata": {},
   "source": [
    " <font color = 'navy'> **income_month** <font color = 'black'> -> 월 소득"
   ]
  },
  {
   "cell_type": "code",
   "execution_count": 47,
   "id": "d1dddc39",
   "metadata": {},
   "outputs": [],
   "source": [
    "train['income_month'] = train['income_total'] / 12\n",
    "test['income_month'] = test['income_total'] / 12"
   ]
  },
  {
   "cell_type": "markdown",
   "id": "7b368205",
   "metadata": {},
   "source": [
    "<font color = 'navy'> **all_income** <font color = 'black'>  -> 총 소득"
   ]
  },
  {
   "cell_type": "code",
   "execution_count": 48,
   "id": "d8bb2645",
   "metadata": {},
   "outputs": [],
   "source": [
    "train['all_income'] = train['income_total'] * train['YEAR_EMPLOYED']\n",
    "test['all_income'] = test['income_total'] * test['YEAR_EMPLOYED']"
   ]
  },
  {
   "cell_type": "markdown",
   "id": "6156bc4c",
   "metadata": {},
   "source": [
    "<font color = 'navy'> **begin_year** <font color = 'black'> -> 신용카드 발급한 지 몇 년 지났는지"
   ]
  },
  {
   "cell_type": "code",
   "execution_count": 49,
   "id": "835250c6",
   "metadata": {},
   "outputs": [],
   "source": [
    "train['begin_year'] = train['begin_month'] // 12\n",
    "test['begin_year'] = test['begin_month'] // 12"
   ]
  },
  {
   "cell_type": "markdown",
   "id": "a64327c0",
   "metadata": {},
   "source": [
    "<font color = 'navy'> **income_changed** -> <font color = 'black'> 소득 변화 여부"
   ]
  },
  {
   "cell_type": "markdown",
   "id": "575bd76a",
   "metadata": {},
   "source": [
    "MONTH_EMPLOYED > begin_month -> 소득변화가 없었음<br>\n",
    "MONTH_EMPLOYED < begin_month -> 소득변화가 있었음"
   ]
  },
  {
   "cell_type": "code",
   "execution_count": 50,
   "id": "efb27cbc",
   "metadata": {},
   "outputs": [],
   "source": [
    "train['income_changed'] = 0\n",
    "test['income_changed'] = 0\n",
    "\n",
    "train.loc[train['MONTH_EMPLOYED'] < train['begin_month'], 'income_changed'] = 1\n",
    "test.loc[test['MONTH_EMPLOYED'] < test['begin_month'], 'income_changed'] = 1"
   ]
  },
  {
   "cell_type": "markdown",
   "id": "f1164828",
   "metadata": {},
   "source": [
    "# 추가 수치형 피쳐"
   ]
  },
  {
   "cell_type": "code",
   "execution_count": 51,
   "id": "d568cf51",
   "metadata": {},
   "outputs": [],
   "source": [
    "train['나이_실수ver']= train['DAYS_BIRTH']/365\n",
    "test['나이_실수ver']= test['DAYS_BIRTH']/365\n"
   ]
  },
  {
   "cell_type": "code",
   "execution_count": 52,
   "id": "dffc3e74",
   "metadata": {},
   "outputs": [],
   "source": [
    "def age_bumju(x):\n",
    "    if 0<x<20:\n",
    "        x= 0\n",
    "    elif 20<= x<30:\n",
    "        x=1\n",
    "    elif 30<=x<40:\n",
    "        x=2\n",
    "    elif 40<=x<50:\n",
    "        x=3\n",
    "    elif 50<=x<60:\n",
    "        x=4\n",
    "    elif 60<=x<70:\n",
    "        x=5\n",
    "    else:\n",
    "        x=6\n",
    "    return x\n",
    "train['나이_범주화']= train['나이_실수ver'].apply(age_bumju)\n",
    "test['나이_범주화']= test['나이_실수ver'].apply(age_bumju)"
   ]
  },
  {
   "cell_type": "code",
   "execution_count": 53,
   "id": "5aeaf8be",
   "metadata": {},
   "outputs": [],
   "source": [
    "q1,q2,q3= train['income_total'].quantile([0.25,0.5,0.75])\n",
    "\n",
    "train['income_total_4']= train['income_total'].apply(lambda x: 0 if x<=q1 else 1 if x<=q2 else 2 if x<=q3 else 3)\n",
    "test['income_total_4']= test['income_total'].apply(lambda x: 0 if x<=q1 else 1 if x<=q2 else 2 if x<=q3 else 3)"
   ]
  },
  {
   "cell_type": "code",
   "execution_count": 54,
   "id": "ab4e8f1a",
   "metadata": {},
   "outputs": [],
   "source": [
    "q1,q2,q3= train['DAYS_UNEMPLOYED'].quantile([0.25,0.5,0.75])\n",
    "\n",
    "train['DAYS_UNEMPLOYED_4']= train['DAYS_UNEMPLOYED'].apply(lambda x: 0 if x<=q1 else 1 if x<=q2 else 2 if x<=q3 else 3)\n",
    "test['DAYS_UNEMPLOYED_4']= test['DAYS_UNEMPLOYED'].apply(lambda x: 0 if x<=q1 else 1 if x<=q2 else 2 if x<=q3 else 3)"
   ]
  },
  {
   "cell_type": "code",
   "execution_count": 55,
   "id": "3bc53d38",
   "metadata": {},
   "outputs": [],
   "source": [
    "train['고용중x평균소득']= train['DAYS_EMPLOYED']* train['income/family']\n",
    "test['고용중x평균소득']= test['DAYS_EMPLOYED']* test['income/family']\n",
    "\n",
    "train['고용중x총소득']= train['DAYS_EMPLOYED']* train['income_total']\n",
    "test['고용중x총소득']= test['DAYS_EMPLOYED']* test['income_total']\n",
    "\n",
    "train['고용중xbirth']= train['DAYS_EMPLOYED']* train['DAYS_BIRTH']\n",
    "test['고용중xbirth']= test['DAYS_EMPLOYED']* test['DAYS_BIRTH']\n",
    "\n",
    "train['고용중xemploy']= train['DAYS_EMPLOYED']* train['DAYS_UNEMPLOYED']\n",
    "test['고용중xemploy']= test['DAYS_EMPLOYED']* test['DAYS_UNEMPLOYED']"
   ]
  },
  {
   "cell_type": "code",
   "execution_count": 56,
   "id": "be3ac31a",
   "metadata": {},
   "outputs": [],
   "source": [
    "train['unemploy*birth']= train['DAYS_UNEMPLOYED']*train['DAYS_BIRTH']\n",
    "test['unemploy*birth']= test['DAYS_UNEMPLOYED']*test['DAYS_BIRTH']\n",
    "\n",
    "train['unemploy*income/family']= train['DAYS_UNEMPLOYED']*train['income/family']\n",
    "test['unemploy*income/family']= test['DAYS_UNEMPLOYED']*test['income/family']\n",
    "\n",
    "train['unemploy*employ']= train['DAYS_UNEMPLOYED']*train['DAYS_EMPLOYED']\n",
    "test['unemploy*employ']= test['DAYS_UNEMPLOYED']*test['DAYS_EMPLOYED']\n",
    "\n",
    "train['unemploy*income_total']=train['DAYS_UNEMPLOYED']*train['income_total']\n",
    "test['unemploy*income_total']=test['DAYS_UNEMPLOYED']*test['income_total']"
   ]
  },
  {
   "cell_type": "markdown",
   "id": "f01e11c5",
   "metadata": {},
   "source": [
    "### begin month 중요도 높길래 범주형 피쳐 생성"
   ]
  },
  {
   "cell_type": "code",
   "execution_count": 58,
   "id": "838a4e43",
   "metadata": {},
   "outputs": [],
   "source": [
    "def begin_bumju(x):\n",
    "    if 0<=x<10:\n",
    "        x= 0\n",
    "    elif 10<= x<20:\n",
    "        x=1\n",
    "    elif 20<=x<30:\n",
    "        x=2\n",
    "    elif 30<=x<40:\n",
    "        x=3\n",
    "    elif 40<=x<50:\n",
    "        x=4\n",
    "    elif 50<=x<60:\n",
    "        x=5\n",
    "    elif 60<= x < 70:\n",
    "        x=6\n",
    "        \n",
    "    else:\n",
    "        x=7\n",
    "    return x\n",
    "train['발급월_범주화']= train['begin_month'].apply(age_bumju)\n",
    "test['발급월_범주화']= test['begin_month'].apply(age_bumju)"
   ]
  },
  {
   "cell_type": "markdown",
   "id": "ca8bf85c",
   "metadata": {},
   "source": [
    "<font color = 'navy'> **groupby 범주, 수치 열 생성**"
   ]
  },
  {
   "cell_type": "markdown",
   "id": "cbcb83dd",
   "metadata": {},
   "source": [
    "- income type 기준"
   ]
  },
  {
   "cell_type": "code",
   "execution_count": 60,
   "id": "fcbbbc8e",
   "metadata": {},
   "outputs": [],
   "source": [
    "#total_income\n",
    "income_mean_income = dict(train.groupby('income_type')['income_total'].mean())\n",
    "\n",
    "train['income_mean_income'] = train['income_type'].apply(lambda x: income_mean_income[x])\n",
    "test['income_mean_income'] = test['income_type'].apply(lambda x: income_mean_income[x])\n",
    "\n",
    "income_sum_income = dict(train.groupby('income_type')['income_total'].sum())\n",
    "\n",
    "train['income_sum_income'] = train['income_type'].apply(lambda x: income_sum_income[x])\n",
    "test['income_sum_income'] = test['income_type'].apply(lambda x: income_sum_income[x])\n",
    "\n",
    "income_std_income = dict(train.groupby('income_type')['income_total'].std())\n",
    "\n",
    "train['income_std_income'] = train['income_type'].apply(lambda x: income_std_income[x])\n",
    "test['income_std_income'] = test['income_type'].apply(lambda x: income_std_income[x])"
   ]
  },
  {
   "cell_type": "code",
   "execution_count": 61,
   "id": "6a2b3f32",
   "metadata": {},
   "outputs": [],
   "source": [
    "#child_num\n",
    "child_mean_income = train.groupby('income_type')['child_num'].mean()\n",
    "train['child_mean_income'] = train['income_type'].apply(lambda x: child_mean_income[x])\n",
    "test['child_mean_income'] = test['income_type'].apply(lambda x: child_mean_income[x])\n",
    "\n",
    "child_sum_income = dict(train.groupby('income_type')['income_total'].sum())\n",
    "\n",
    "train['child_sum_income'] = train['income_type'].apply(lambda x: child_sum_income[x])\n",
    "test['child_sum_income'] = test['income_type'].apply(lambda x: child_sum_income[x])\n",
    "\n",
    "child_std_income = dict(train.groupby('income_type')['income_total'].std())\n",
    "\n",
    "train['child_std_income'] = train['income_type'].apply(lambda x: child_std_income[x])\n",
    "test['child_std_income'] = test['income_type'].apply(lambda x: child_std_income[x])"
   ]
  },
  {
   "cell_type": "code",
   "execution_count": 62,
   "id": "cb4d2421",
   "metadata": {},
   "outputs": [],
   "source": [
    "#age\n",
    "age_mean_income = train.groupby('income_type')['age'].mean()\n",
    "train['age_mean_income'] = train['income_type'].apply(lambda x: age_mean_income[x])\n",
    "test['age_mean_income'] = test['income_type'].apply(lambda x: age_mean_income[x])\n",
    "\n",
    "age_sum_income = dict(train.groupby('income_type')['income_total'].sum())\n",
    "\n",
    "train['age_sum_income'] = train['income_type'].apply(lambda x: age_sum_income[x])\n",
    "test['age_sum_income'] = test['income_type'].apply(lambda x: age_sum_income[x])\n",
    "\n",
    "age_std_income = dict(train.groupby('income_type')['income_total'].std())\n",
    "\n",
    "train['age_std_income'] = train['income_type'].apply(lambda x: age_std_income[x])\n",
    "test['age_std_income'] = test['income_type'].apply(lambda x: age_std_income[x])"
   ]
  },
  {
   "cell_type": "code",
   "execution_count": 63,
   "id": "1bdfdad6",
   "metadata": {},
   "outputs": [],
   "source": [
    "#YEARS_EMPLOYED\n",
    "EMPLOYED_mean_income = train.groupby('income_type')['YEAR_EMPLOYED'].mean()\n",
    "\n",
    "train['EMPLOYED_mean_income'] = train['income_type'].apply(lambda x: EMPLOYED_mean_income[x])\n",
    "test['EMPLOYED_mean_income'] = test['income_type'].apply(lambda x: EMPLOYED_mean_income[x])\n",
    "\n",
    "EMPLOYED_sum_income = dict(train.groupby('income_type')['YEAR_EMPLOYED'].sum())\n",
    "\n",
    "train['EMPLOYED_sum_income'] = train['income_type'].apply(lambda x: EMPLOYED_sum_income[x])\n",
    "test['EMPLOYED_sum_income'] = test['income_type'].apply(lambda x: EMPLOYED_sum_income[x])\n",
    "\n",
    "EMPLOYED_std_income = dict(train.groupby('income_type')['YEAR_EMPLOYED'].std())\n",
    "\n",
    "train['EMPLOYED_std_income'] = train['income_type'].apply(lambda x: EMPLOYED_std_income[x])\n",
    "test['EMPLOYED_std_income'] = test['income_type'].apply(lambda x: EMPLOYED_std_income[x])"
   ]
  },
  {
   "cell_type": "markdown",
   "id": "fe3c77e5",
   "metadata": {},
   "source": [
    "- edu_type"
   ]
  },
  {
   "cell_type": "code",
   "execution_count": 64,
   "id": "3b945715",
   "metadata": {},
   "outputs": [],
   "source": [
    "#income_total\n",
    "income_mean_edu = dict(train.groupby('edu_type')['income_total'].mean())\n",
    "\n",
    "train['income_mean_edu'] = train['edu_type'].apply(lambda x: income_mean_edu[x])\n",
    "test['income_mean_edu'] = test['edu_type'].apply(lambda x: income_mean_edu[x])\n",
    "\n",
    "income_sum_edu = dict(train.groupby('edu_type')['income_total'].sum())\n",
    "\n",
    "train['income_sum_edu'] = train['edu_type'].apply(lambda x: income_sum_edu[x])\n",
    "test['income_sum_edu'] = test['edu_type'].apply(lambda x: income_sum_edu[x])\n",
    "\n",
    "income_std_edu = dict(train.groupby('edu_type')['income_total'].std())\n",
    "\n",
    "train['income_std_edu'] = train['edu_type'].apply(lambda x: income_std_edu[x])\n",
    "test['income_std_edu'] = test['edu_type'].apply(lambda x: income_std_edu[x])"
   ]
  },
  {
   "cell_type": "code",
   "execution_count": 65,
   "id": "8231e475",
   "metadata": {},
   "outputs": [],
   "source": [
    "#child_num\n",
    "child_mean_edu = train.groupby('edu_type')['child_num'].mean()\n",
    "train['child_mean_edu'] = train['edu_type'].apply(lambda x: child_mean_edu[x])\n",
    "test['child_mean_edu'] = test['edu_type'].apply(lambda x: child_mean_edu[x])\n",
    "\n",
    "child_sum_edu = dict(train.groupby('edu_type')['income_total'].sum())\n",
    "\n",
    "train['child_sum_edu'] = train['edu_type'].apply(lambda x: child_sum_edu[x])\n",
    "test['child_sum_edu'] = test['edu_type'].apply(lambda x: child_sum_edu[x])\n",
    "\n",
    "child_std_edu = dict(train.groupby('edu_type')['income_total'].std())\n",
    "\n",
    "train['child_std_edu'] = train['edu_type'].apply(lambda x: child_std_edu[x])\n",
    "test['child_std_edu'] = test['edu_type'].apply(lambda x: child_std_edu[x])"
   ]
  },
  {
   "cell_type": "code",
   "execution_count": 66,
   "id": "cd6146a6",
   "metadata": {},
   "outputs": [],
   "source": [
    "#age\n",
    "age_mean_edu = train.groupby('edu_type')['age'].mean()\n",
    "train['age_mean_edu'] = train['edu_type'].apply(lambda x: age_mean_edu[x])\n",
    "test['age_mean_edu'] = test['edu_type'].apply(lambda x: age_mean_edu[x])\n",
    "\n",
    "age_sum_edu = dict(train.groupby('edu_type')['income_total'].sum())\n",
    "\n",
    "train['age_sum_edu'] = train['edu_type'].apply(lambda x: age_sum_edu[x])\n",
    "test['age_sum_edu'] = test['edu_type'].apply(lambda x: age_sum_edu[x])\n",
    "\n",
    "age_std_edu = dict(train.groupby('edu_type')['income_total'].std())\n",
    "\n",
    "train['age_std_edu'] = train['edu_type'].apply(lambda x: age_std_edu[x])\n",
    "test['age_std_edu'] = test['edu_type'].apply(lambda x: age_std_edu[x])"
   ]
  },
  {
   "cell_type": "code",
   "execution_count": 67,
   "id": "77fade05",
   "metadata": {},
   "outputs": [],
   "source": [
    "#YEARS_EMPLOYED\n",
    "EMPLOYED_mean_edu = train.groupby('edu_type')['YEAR_EMPLOYED'].mean()\n",
    "\n",
    "train['EMPLOYED_mean_edu'] = train['edu_type'].apply(lambda x: EMPLOYED_mean_edu[x])\n",
    "test['EMPLOYED_mean_edu'] = test['edu_type'].apply(lambda x: EMPLOYED_mean_edu[x])\n",
    "\n",
    "EMPLOYED_sum_edu = dict(train.groupby('edu_type')['YEAR_EMPLOYED'].sum())\n",
    "\n",
    "train['EMPLOYED_sum_edu'] = train['edu_type'].apply(lambda x: EMPLOYED_sum_edu[x])\n",
    "test['EMPLOYED_sum_edu'] = test['edu_type'].apply(lambda x: EMPLOYED_sum_edu[x])\n",
    "\n",
    "EMPLOYED_std_edu = dict(train.groupby('edu_type')['YEAR_EMPLOYED'].std())\n",
    "\n",
    "train['EMPLOYED_std_edu'] = train['edu_type'].apply(lambda x: EMPLOYED_std_edu[x])\n",
    "test['EMPLOYED_std_edu'] = test['edu_type'].apply(lambda x: EMPLOYED_std_edu[x])"
   ]
  },
  {
   "cell_type": "markdown",
   "id": "506aee32",
   "metadata": {},
   "source": [
    "- house type"
   ]
  },
  {
   "cell_type": "code",
   "execution_count": 68,
   "id": "95588a9e",
   "metadata": {},
   "outputs": [],
   "source": [
    "#income_total\n",
    "income_mean_house = dict(train.groupby('house_type')['income_total'].mean())\n",
    "\n",
    "train['income_mean_house'] = train['house_type'].apply(lambda x: income_mean_house[x])\n",
    "test['income_mean_house'] = test['house_type'].apply(lambda x: income_mean_house[x])\n",
    "\n",
    "income_sum_house = dict(train.groupby('house_type')['income_total'].sum())\n",
    "\n",
    "train['income_sum_house'] = train['house_type'].apply(lambda x: income_sum_house[x])\n",
    "test['income_sum_house'] = test['house_type'].apply(lambda x: income_sum_house[x])\n",
    "\n",
    "income_std_house = dict(train.groupby('house_type')['income_total'].std())\n",
    "\n",
    "train['income_std_house'] = train['house_type'].apply(lambda x: income_std_house[x])\n",
    "test['income_std_house'] = test['house_type'].apply(lambda x: income_std_house[x])"
   ]
  },
  {
   "cell_type": "code",
   "execution_count": 69,
   "id": "cdb1d7c6",
   "metadata": {},
   "outputs": [],
   "source": [
    "#child_num\n",
    "child_mean_house = train.groupby('house_type')['child_num'].mean()\n",
    "train['child_mean_house'] = train['house_type'].apply(lambda x: child_mean_house[x])\n",
    "test['child_mean_house'] = test['house_type'].apply(lambda x: child_mean_house[x])\n",
    "\n",
    "child_sum_house = dict(train.groupby('house_type')['income_total'].sum())\n",
    "\n",
    "train['child_sum_house'] = train['house_type'].apply(lambda x: child_sum_house[x])\n",
    "test['child_sum_house'] = test['house_type'].apply(lambda x: child_sum_house[x])\n",
    "\n",
    "child_std_house = dict(train.groupby('house_type')['income_total'].std())\n",
    "\n",
    "train['child_std_house'] = train['house_type'].apply(lambda x: child_std_house[x])\n",
    "test['child_std_house'] = test['house_type'].apply(lambda x: child_std_house[x])"
   ]
  },
  {
   "cell_type": "code",
   "execution_count": 70,
   "id": "2a087399",
   "metadata": {},
   "outputs": [],
   "source": [
    "#age\n",
    "age_mean_house = train.groupby('house_type')['age'].mean()\n",
    "train['age_mean_house'] = train['house_type'].apply(lambda x: age_mean_house[x])\n",
    "test['age_mean_house'] = test['house_type'].apply(lambda x: age_mean_house[x])\n",
    "\n",
    "age_sum_house = dict(train.groupby('house_type')['income_total'].sum())\n",
    "\n",
    "train['age_sum_house'] = train['house_type'].apply(lambda x: age_sum_house[x])\n",
    "test['age_sum_house'] = test['house_type'].apply(lambda x: age_sum_house[x])\n",
    "\n",
    "age_std_house = dict(train.groupby('house_type')['income_total'].std())\n",
    "\n",
    "train['age_std_house'] = train['house_type'].apply(lambda x: age_std_house[x])\n",
    "test['age_std_house'] = test['house_type'].apply(lambda x: age_std_house[x])"
   ]
  },
  {
   "cell_type": "code",
   "execution_count": 71,
   "id": "36728845",
   "metadata": {},
   "outputs": [],
   "source": [
    "#YEARS_EMPLOYED\n",
    "EMPLOYED_mean_house = train.groupby('house_type')['YEAR_EMPLOYED'].mean()\n",
    "\n",
    "train['EMPLOYED_mean_house'] = train['house_type'].apply(lambda x: EMPLOYED_mean_house[x])\n",
    "test['EMPLOYED_mean_house'] = test['house_type'].apply(lambda x: EMPLOYED_mean_house[x])\n",
    "\n",
    "EMPLOYED_sum_house = dict(train.groupby('house_type')['YEAR_EMPLOYED'].sum())\n",
    "\n",
    "train['EMPLOYED_sum_house'] = train['house_type'].apply(lambda x: EMPLOYED_sum_house[x])\n",
    "test['EMPLOYED_sum_house'] = test['house_type'].apply(lambda x: EMPLOYED_sum_house[x])\n",
    "\n",
    "EMPLOYED_std_house = dict(train.groupby('house_type')['YEAR_EMPLOYED'].std())\n",
    "\n",
    "train['EMPLOYED_std_house'] = train['house_type'].apply(lambda x: EMPLOYED_std_house[x])\n",
    "test['EMPLOYED_std_house'] = test['house_type'].apply(lambda x: EMPLOYED_std_house[x])"
   ]
  },
  {
   "cell_type": "markdown",
   "id": "6960622c",
   "metadata": {},
   "source": [
    "- family type"
   ]
  },
  {
   "cell_type": "code",
   "execution_count": 72,
   "id": "5d9bceeb",
   "metadata": {},
   "outputs": [],
   "source": [
    "#income_total\n",
    "income_mean_family = dict(train.groupby('family_type')['income_total'].mean())\n",
    "\n",
    "train['income_mean_family'] = train['family_type'].apply(lambda x: income_mean_family[x])\n",
    "test['income_mean_family'] = test['family_type'].apply(lambda x: income_mean_family[x])\n",
    "\n",
    "income_sum_family = dict(train.groupby('family_type')['income_total'].sum())\n",
    "\n",
    "train['income_sum_family'] = train['family_type'].apply(lambda x: income_sum_family[x])\n",
    "test['income_sum_family'] = test['family_type'].apply(lambda x: income_sum_family[x])\n",
    "\n",
    "income_std_family = dict(train.groupby('family_type')['income_total'].std())\n",
    "\n",
    "train['income_std_family'] = train['family_type'].apply(lambda x: income_std_family[x])\n",
    "test['income_std_family'] = test['family_type'].apply(lambda x: income_std_family[x])"
   ]
  },
  {
   "cell_type": "code",
   "execution_count": 73,
   "id": "c16c31e0",
   "metadata": {},
   "outputs": [],
   "source": [
    "#child_num\n",
    "child_mean_family = train.groupby('family_type')['child_num'].mean()\n",
    "train['child_mean_family'] = train['family_type'].apply(lambda x: child_mean_family[x])\n",
    "test['child_mean_family'] = test['family_type'].apply(lambda x: child_mean_family[x])\n",
    "\n",
    "child_sum_family = dict(train.groupby('family_type')['income_total'].sum())\n",
    "\n",
    "train['child_sum_family'] = train['family_type'].apply(lambda x: child_sum_family[x])\n",
    "test['child_sum_family'] = test['family_type'].apply(lambda x: child_sum_family[x])\n",
    "\n",
    "child_std_family = dict(train.groupby('family_type')['income_total'].std())\n",
    "\n",
    "train['child_std_family'] = train['family_type'].apply(lambda x: child_std_family[x])\n",
    "test['child_std_family'] = test['family_type'].apply(lambda x: child_std_family[x])"
   ]
  },
  {
   "cell_type": "code",
   "execution_count": 74,
   "id": "f7929a15",
   "metadata": {},
   "outputs": [],
   "source": [
    "#age\n",
    "age_mean_family = train.groupby('family_type')['age'].mean()\n",
    "train['age_mean_family'] = train['family_type'].apply(lambda x: age_mean_family[x])\n",
    "test['age_mean_family'] = test['family_type'].apply(lambda x: age_mean_family[x])\n",
    "\n",
    "age_sum_family = dict(train.groupby('family_type')['income_total'].sum())\n",
    "\n",
    "train['age_sum_family'] = train['family_type'].apply(lambda x: age_sum_family[x])\n",
    "test['age_sum_family'] = test['family_type'].apply(lambda x: age_sum_family[x])\n",
    "\n",
    "age_std_family = dict(train.groupby('family_type')['income_total'].std())\n",
    "\n",
    "train['age_std_family'] = train['family_type'].apply(lambda x: age_std_family[x])\n",
    "test['age_std_family'] = test['family_type'].apply(lambda x: age_std_family[x])"
   ]
  },
  {
   "cell_type": "code",
   "execution_count": 75,
   "id": "f71c5226",
   "metadata": {},
   "outputs": [],
   "source": [
    "#YEARS_EMPLOYED\n",
    "EMPLOYED_mean_family = train.groupby('family_type')['YEAR_EMPLOYED'].mean()\n",
    "\n",
    "train['EMPLOYED_mean_family'] = train['family_type'].apply(lambda x: EMPLOYED_mean_family[x])\n",
    "test['EMPLOYED_mean_family'] = test['family_type'].apply(lambda x: EMPLOYED_mean_family[x])\n",
    "\n",
    "EMPLOYED_sum_family = dict(train.groupby('family_type')['YEAR_EMPLOYED'].sum())\n",
    "\n",
    "train['EMPLOYED_sum_family'] = train['family_type'].apply(lambda x: EMPLOYED_sum_family[x])\n",
    "test['EMPLOYED_sum_family'] = test['family_type'].apply(lambda x: EMPLOYED_sum_family[x])\n",
    "\n",
    "EMPLOYED_std_family = dict(train.groupby('family_type')['YEAR_EMPLOYED'].std())\n",
    "\n",
    "train['EMPLOYED_std_family'] = train['family_type'].apply(lambda x: EMPLOYED_std_family[x])\n",
    "test['EMPLOYED_std_family'] = test['family_type'].apply(lambda x: EMPLOYED_std_family[x])"
   ]
  },
  {
   "cell_type": "markdown",
   "id": "d78f0a45",
   "metadata": {},
   "source": [
    "## <font color = mediumblue> ** Scaling **"
   ]
  },
  {
   "cell_type": "code",
   "execution_count": 77,
   "id": "0b452699",
   "metadata": {},
   "outputs": [],
   "source": [
    "num = ['child_num', 'income_total', 'DAYS_BIRTH','DAYS_EMPLOYED', 'family_size',  'begin_month', 'income/family', 'adult_num', 'age', 'MONTH_EMPLOYED', 'YEAR_EMPLOYED',\n",
    "       'DAYS_UNEMPLOYED', 'WPE', 'income_month', 'all_income','begin_year' ,'income_mean_income', 'income_sum_income', 'income_std_income',\n",
    "       'child_mean_income', 'child_sum_income', 'child_std_income',\n",
    "       'age_mean_income', 'age_sum_income', 'age_std_income',\n",
    "       'EMPLOYED_mean_income', 'EMPLOYED_sum_income', 'EMPLOYED_std_income',\n",
    "       'income_mean_edu', 'income_sum_edu', 'income_std_edu', 'child_mean_edu',\n",
    "       'child_sum_edu', 'child_std_edu', 'age_mean_edu', 'age_sum_edu',\n",
    "       'age_std_edu', 'EMPLOYED_mean_edu', 'EMPLOYED_sum_edu',\n",
    "       'EMPLOYED_std_edu', 'income_mean_house', 'income_sum_house',\n",
    "       'income_std_house', 'child_mean_house', 'child_sum_house',\n",
    "       'child_std_house', 'age_mean_house', 'age_sum_house', 'age_std_house',\n",
    "       'EMPLOYED_mean_house', 'EMPLOYED_sum_house', 'EMPLOYED_std_house',\n",
    "       'income_mean_family', 'income_sum_family', 'income_std_family',\n",
    "       'child_mean_family', 'child_sum_family', 'child_std_family',\n",
    "       'age_mean_family', 'age_sum_family', 'age_std_family',\n",
    "       'EMPLOYED_mean_family', 'EMPLOYED_sum_family', 'EMPLOYED_std_family']\n",
    "cat = ['ID', 'gender', 'car', 'reality','income_type', 'edu_type', 'family_type', 'house_type', 'work_phone', 'phone', 'email','occyp_type', 'EMPLOYED', 'YEAR_EMPLOYED_q', 'GCR', 'reality_house', 'income_changed'\n",
    "      ,'나이_실수ver', 'income_total_4', 'DAYS_UNEMPLOYED_4', '고용중x평균소득',\n",
    "       '고용중x총소득', '고용중xbirth', '고용중xemploy', 'unemploy*birth',\n",
    "       'unemploy*income/family', 'unemploy*employ', 'unemploy*income_total','나이_범주화','발급월_범주화']"
   ]
  },
  {
   "cell_type": "markdown",
   "id": "15bcca54",
   "metadata": {},
   "source": [
    "#### - MinMaxScaler -"
   ]
  },
  {
   "cell_type": "code",
   "execution_count": 78,
   "id": "320589d9",
   "metadata": {},
   "outputs": [],
   "source": [
    "scaler = MinMaxScaler()\n",
    "train[num] = scaler.fit_transform(train[num])\n",
    "test[num] = scaler.transform(test[num])"
   ]
  },
  {
   "cell_type": "markdown",
   "id": "07f9d860",
   "metadata": {},
   "source": [
    "#### - 로그변환 -"
   ]
  },
  {
   "cell_type": "code",
   "execution_count": 79,
   "id": "36dc321c",
   "metadata": {},
   "outputs": [],
   "source": [
    "train[num] = np.log1p(train[num])\n",
    "test[num] = np.log1p(test[num])"
   ]
  },
  {
   "cell_type": "markdown",
   "id": "8f8afbb8",
   "metadata": {},
   "source": [
    "## <font color = mediumblue> ** Encoding **"
   ]
  },
  {
   "cell_type": "markdown",
   "id": "a88b094f",
   "metadata": {},
   "source": [
    "#### - binary encoding -"
   ]
  },
  {
   "cell_type": "code",
   "execution_count": 80,
   "id": "cf04d7c6",
   "metadata": {},
   "outputs": [],
   "source": [
    "train['gender'] = train['gender'].apply(lambda x: 1 if x=='M' else 0)\n",
    "test['gender'] = test['gender'].apply(lambda x: 1 if x=='M' else 0)\n",
    "\n",
    "train['car'] = train['car'].apply(lambda x: 1 if x=='Y' else 0)\n",
    "test['car'] = test['car'].apply(lambda x: 1 if x=='Y' else 0)\n",
    "\n",
    "train['reality'] = train['reality'].apply(lambda x: 1 if x=='Y' else 0)\n",
    "test['reality'] = test['reality'].apply(lambda x: 1 if x=='Y' else 0)"
   ]
  },
  {
   "cell_type": "markdown",
   "id": "456c585f",
   "metadata": {},
   "source": [
    "#### - Ordinary encoding -"
   ]
  },
  {
   "cell_type": "code",
   "execution_count": 81,
   "id": "dfda5dc2",
   "metadata": {},
   "outputs": [],
   "source": [
    "train.loc[train['edu_type'] == 'Lower secondary', 'edu_type'] = 0\n",
    "train.loc[train['edu_type'] == 'Secondary / secondary special', 'edu_type'] = 1\n",
    "train.loc[train['edu_type'] == 'Incomplete higher', 'edu_type'] = 2\n",
    "train.loc[train['edu_type'] == 'Higher education', 'edu_type'] = 3\n",
    "train.loc[train['edu_type'] == 'Academic degree', 'edu_type'] = 4\n",
    "\n",
    "test.loc[test['edu_type'] == 'Lower secondary', 'edu_type'] = 0\n",
    "test.loc[test['edu_type'] == 'Secondary / secondary special', 'edu_type'] = 1\n",
    "test.loc[test['edu_type'] == 'Incomplete higher', 'edu_type'] = 2\n",
    "test.loc[test['edu_type'] == 'Higher education', 'edu_type'] = 3\n",
    "test.loc[test['edu_type'] == 'Academic degree', 'edu_type'] = 4"
   ]
  },
  {
   "cell_type": "markdown",
   "id": "8812e6f8",
   "metadata": {},
   "source": [
    "#### - Label encoding -"
   ]
  },
  {
   "cell_type": "code",
   "execution_count": 82,
   "id": "3f98215d",
   "metadata": {},
   "outputs": [],
   "source": [
    "# Label Encoding 할 feature들\n",
    "\n",
    "label_col = ['ID', 'income_type', 'family_type', 'house_type', 'occyp_type', 'GCR', 'reality_house']"
   ]
  },
  {
   "cell_type": "code",
   "execution_count": 83,
   "id": "90871279",
   "metadata": {
    "scrolled": true
   },
   "outputs": [],
   "source": [
    "for col in label_col:\n",
    "    lbencoder = LabelEncoder()\n",
    "    lbencoder.fit(train[col])\n",
    "    train[col] = lbencoder.transform(train[col])\n",
    "    test[col] = lbencoder.transform(test[col])"
   ]
  },
  {
   "cell_type": "markdown",
   "id": "2fc0ba34",
   "metadata": {},
   "source": [
    "#### -Target encoding -"
   ]
  },
  {
   "cell_type": "markdown",
   "id": "2fe70f76",
   "metadata": {},
   "source": [
    "- 성능 너무 떨어짐요"
   ]
  },
  {
   "cell_type": "markdown",
   "id": "b37548f1",
   "metadata": {},
   "source": [
    "import category_encoders as ce\n",
    "te = ce.TargetEncoder(cols=label_col, min_samples_leaf=5, smoothing=50) "
   ]
  },
  {
   "cell_type": "markdown",
   "id": "600dfd91",
   "metadata": {},
   "source": [
    "te.fit(train[label_col],train_y)\n",
    "train[label_col] = te.transform(train[label_col])\n",
    "test[label_col] = te.transform(train[label_col])"
   ]
  },
  {
   "cell_type": "markdown",
   "id": "ec8069d0",
   "metadata": {},
   "source": [
    "## <font color = mediumblue> ** Feature Selection **"
   ]
  },
  {
   "cell_type": "code",
   "execution_count": 84,
   "id": "1e175f4e",
   "metadata": {
    "scrolled": true
   },
   "outputs": [],
   "source": [
    "train1, test1 = train.copy(), test.copy()"
   ]
  },
  {
   "cell_type": "code",
   "execution_count": 85,
   "id": "be03c098",
   "metadata": {},
   "outputs": [],
   "source": [
    "train_X = train1.drop(columns='credit')\n",
    "test_X = test1\n",
    "train_y = train['credit']"
   ]
  },
  {
   "cell_type": "markdown",
   "id": "7c23ff25",
   "metadata": {},
   "source": [
    "#### - target과의 상관관계 -"
   ]
  },
  {
   "cell_type": "code",
   "execution_count": 86,
   "id": "31c14a66",
   "metadata": {},
   "outputs": [
    {
     "data": {
      "image/png": "[encoded data removed]",
      "text/plain": [
       "<Figure size 936x792 with 2 Axes>"
      ]
     },
     "metadata": {
      "needs_background": "light"
     },
     "output_type": "display_data"
    }
   ],
   "source": [
    "klib.corr_plot(data =train_X, \n",
    "               target =train_y,\n",
    "               figsize = (13, 11))\n",
    "\n",
    "plt.show()"
   ]
  },
  {
   "cell_type": "markdown",
   "id": "0cfbca77",
   "metadata": {},
   "source": [
    "- CatBoost"
   ]
  },
  {
   "cell_type": "code",
   "execution_count": 87,
   "id": "8181419f",
   "metadata": {
    "scrolled": true
   },
   "outputs": [],
   "source": [
    "selector = SelectFromModel(RandomForestClassifier(random_state=0), threshold=None)\n",
    "train_fs = selector.fit(train_X, train_y).transform(train_X)\n",
    "test_fs = selector.transform(test_X)\n",
    "\n",
    "mask = selector.get_support()\n",
    "\n",
    "fs_dict = {}\n",
    "for i in range(len(train_X.columns)):\n",
    "    fs_dict[train_X.columns[i]] = mask[i]"
   ]
  },
  {
   "cell_type": "code",
   "execution_count": 88,
   "id": "01ad8f9c",
   "metadata": {},
   "outputs": [
    {
     "name": "stdout",
     "output_type": "stream",
     "text": [
      "X_train.shape: (26457, 94),  train_fs.shape: (26457, 24)\n"
     ]
    }
   ],
   "source": [
    "print(\"X_train.shape: {},  train_fs.shape: {}\".format(train_X.shape, train_fs.shape))"
   ]
  },
  {
   "cell_type": "markdown",
   "id": "1b8b8e69",
   "metadata": {},
   "source": [
    "### SELECTION 된 FEATURE들"
   ]
  },
  {
   "cell_type": "code",
   "execution_count": 89,
   "id": "c628b680",
   "metadata": {
    "scrolled": false
   },
   "outputs": [
    {
     "data": {
      "text/plain": [
       "['ID',\n",
       " 'income_total',\n",
       " 'DAYS_BIRTH',\n",
       " 'DAYS_EMPLOYED',\n",
       " 'occyp_type',\n",
       " 'begin_month',\n",
       " 'income/family',\n",
       " 'age',\n",
       " 'MONTH_EMPLOYED',\n",
       " 'DAYS_UNEMPLOYED',\n",
       " 'GCR',\n",
       " 'income_month',\n",
       " 'all_income',\n",
       " 'begin_year',\n",
       " '나이_실수ver',\n",
       " '고용중x평균소득',\n",
       " '고용중x총소득',\n",
       " '고용중xbirth',\n",
       " '고용중xemploy',\n",
       " 'unemploy*birth',\n",
       " 'unemploy*income/family',\n",
       " 'unemploy*employ',\n",
       " 'unemploy*income_total',\n",
       " '발급월_범주화']"
      ]
     },
     "execution_count": 89,
     "metadata": {},
     "output_type": "execute_result"
    }
   ],
   "source": [
    "col_lst = []\n",
    "for i in list(train_X.columns):\n",
    "    if fs_dict[i] ==True:\n",
    "        col_lst.append(i)\n",
    "    \n",
    "col_lst"
   ]
  },
  {
   "cell_type": "code",
   "execution_count": 90,
   "id": "94e56e43",
   "metadata": {},
   "outputs": [],
   "source": [
    "train_X1 = pd.DataFrame(train_fs, columns=col_lst)\n",
    "test_X1 = pd.DataFrame(test_fs, columns=col_lst)"
   ]
  },
  {
   "cell_type": "markdown",
   "id": "f59f7dcb",
   "metadata": {},
   "source": [
    "## MY OWN FEATURE SELECTION "
   ]
  },
  {
   "cell_type": "code",
   "execution_count": 91,
   "id": "19a834d2",
   "metadata": {},
   "outputs": [],
   "source": [
    "cb = RandomForestClassifier(random_state=0)\n",
    "cb.fit(train_X, train_y)\n",
    "feature_import = pd.Series(cb.feature_importances_, train_X.columns)"
   ]
  },
  {
   "cell_type": "markdown",
   "id": "4c42483a",
   "metadata": {},
   "source": [
    "#### 중요도 0.004 이하 피쳐들"
   ]
  },
  {
   "cell_type": "code",
   "execution_count": 93,
   "id": "eb16eaf8",
   "metadata": {
    "scrolled": false
   },
   "outputs": [
    {
     "data": {
      "text/plain": [
       "59"
      ]
     },
     "execution_count": 93,
     "metadata": {},
     "output_type": "execute_result"
    }
   ],
   "source": [
    "len(feature_import[feature_import.sort_values(ascending=False)<0.004])"
   ]
  },
  {
   "cell_type": "code",
   "execution_count": 94,
   "id": "0c6a2018",
   "metadata": {},
   "outputs": [],
   "source": [
    "cut_im = feature_import[feature_import.sort_values(ascending=False)<0.004].keys()"
   ]
  },
  {
   "cell_type": "code",
   "execution_count": 95,
   "id": "7e54ee71",
   "metadata": {
    "scrolled": true
   },
   "outputs": [
    {
     "data": {
      "text/plain": [
       "Index(['gender', 'child_num', 'work_phone', 'phone', 'income/family',\n",
       "       'EMPLOYED', 'GCR', 'WPE', 'income_total_4', 'child_mean_income',\n",
       "       'age_mean_income', 'EMPLOYED_mean_income', 'EMPLOYED_sum_income',\n",
       "       'EMPLOYED_std_income', 'EMPLOYED_std_edu', 'child_mean_house'],\n",
       "      dtype='object')"
      ]
     },
     "execution_count": 95,
     "metadata": {},
     "output_type": "execute_result"
    }
   ],
   "source": [
    "train_X.corrwith(train_y)[(-0.005<train_X.corrwith(train_y).sort_values(ascending=True))&(train_X.corrwith(train_y).sort_values(ascending=True)<0.005)].keys()"
   ]
  },
  {
   "cell_type": "code",
   "execution_count": 96,
   "id": "e2c23095",
   "metadata": {},
   "outputs": [],
   "source": [
    "cut_corr =train_X.corrwith(train_y)[(-0.005<train_X.corrwith(train_y).sort_values(ascending=True))&(train_X.corrwith(train_y).sort_values(ascending=True)<0.005)].keys() "
   ]
  },
  {
   "cell_type": "code",
   "execution_count": 97,
   "id": "54eeb494",
   "metadata": {},
   "outputs": [
    {
     "data": {
      "text/plain": [
       "94"
      ]
     },
     "execution_count": 97,
     "metadata": {},
     "output_type": "execute_result"
    }
   ],
   "source": [
    "all_col = list(train_X.columns)\n",
    "len(all_col)"
   ]
  },
  {
   "cell_type": "markdown",
   "id": "7f77461f",
   "metadata": {},
   "source": [
    "#### target과의 corr 절댓값이 0.005보다 작은 열들과 importance 0.004보다 작은 열들의 교집합 제거한 피쳐들"
   ]
  },
  {
   "cell_type": "code",
   "execution_count": 98,
   "id": "c67eab7e",
   "metadata": {},
   "outputs": [
    {
     "data": {
      "text/plain": [
       "9"
      ]
     },
     "execution_count": 98,
     "metadata": {},
     "output_type": "execute_result"
    }
   ],
   "source": [
    "col_im_corr = [x for x in cut_im if x in cut_corr]\n",
    "len(col_im_corr)"
   ]
  },
  {
   "cell_type": "code",
   "execution_count": 99,
   "id": "708ca7b9",
   "metadata": {},
   "outputs": [
    {
     "data": {
      "text/plain": [
       "85"
      ]
     },
     "execution_count": 99,
     "metadata": {},
     "output_type": "execute_result"
    }
   ],
   "source": [
    "col_cutted_im_corr = [x for x in all_col if x not in col_im_corr]\n",
    "len(col_cutted_im_corr)"
   ]
  },
  {
   "cell_type": "code",
   "execution_count": 100,
   "id": "10e7b89d",
   "metadata": {},
   "outputs": [],
   "source": [
    "train_X_corr_im = train_X[col_cutted_im_corr]\n",
    "test_X_corr_im = test_X[col_cutted_im_corr]"
   ]
  },
  {
   "cell_type": "markdown",
   "id": "9d25bda8",
   "metadata": {},
   "source": [
    "#### importance를 기준으로만 셀렉션 한 열들"
   ]
  },
  {
   "cell_type": "code",
   "execution_count": 101,
   "id": "a332d900",
   "metadata": {},
   "outputs": [
    {
     "data": {
      "text/plain": [
       "35"
      ]
     },
     "execution_count": 101,
     "metadata": {},
     "output_type": "execute_result"
    }
   ],
   "source": [
    "col_cutted_im = [x for x in all_col if x not in cut_im]\n",
    "len(col_cutted_im)"
   ]
  },
  {
   "cell_type": "code",
   "execution_count": 103,
   "id": "bbecbd33",
   "metadata": {},
   "outputs": [],
   "source": [
    "train_X_im = train_X[col_cutted_im]\n",
    "test_X_im = test_X[col_cutted_im]"
   ]
  },
  {
   "cell_type": "markdown",
   "id": "bf6c702a",
   "metadata": {},
   "source": [
    "## <font color = mediumblue> ** Modeling **"
   ]
  },
  {
   "cell_type": "markdown",
   "id": "8759f3ab",
   "metadata": {},
   "source": [
    "# model tuning using optuna"
   ]
  },
  {
   "cell_type": "code",
   "execution_count": 85,
   "id": "694b3be7",
   "metadata": {},
   "outputs": [],
   "source": [
    "import optuna\n",
    "from optuna import Trial, visualization\n",
    "from optuna.samplers import TPESampler\n",
    "from sklearn.model_selection import cross_val_score\n",
    "from optuna.samplers import TPESampler"
   ]
  },
  {
   "cell_type": "code",
   "execution_count": 245,
   "id": "76b21f6b",
   "metadata": {},
   "outputs": [],
   "source": [
    "def objective(trial: Trial) -> float:\n",
    "    params_lgb = {\n",
    "       'random_state':0,\n",
    "        \"max_depth\": trial.suggest_int(\"max_depth\", 5, 20),\n",
    "        \"n_estimators\": trial.suggest_int(\"n_estimators\", 100, 500),\n",
    "        'min_samples_leaf' : trial.suggest_int( 'min_samples_leaf',5,15 ),\n",
    "        'min_samples_split': trial.suggest_int('min_samples_split',5,20 ),\n",
    "        \"max_features\": trial.suggest_int(\"max_features\", 1, 5),\n",
    "    }\n",
    "    \n",
    "    X_train, X_valid, y_train, y_valid = train_test_split(train_X, train_y, test_size=0.2)\n",
    "\n",
    "    model = RandomForestClassifier(**params_lgb)\n",
    "    model.fit(X_train, y_train)\n",
    "\n",
    "    pred = model.predict_proba(X_valid)\n",
    "    score = log_loss(y_valid, pred)\n",
    "    \n",
    "    return score"
   ]
  },
  {
   "cell_type": "code",
   "execution_count": 246,
   "id": "2176f87c",
   "metadata": {},
   "outputs": [
    {
     "name": "stderr",
     "output_type": "stream",
     "text": [
      "\u001b[32m[I 2022-11-27 16:11:43,589]\u001b[0m A new study created in memory with name: rf_parameter_opt\u001b[0m\n",
      "\u001b[32m[I 2022-11-27 16:11:50,291]\u001b[0m Trial 0 finished with value: 0.8111575141288773 and parameters: {'max_depth': 10, 'n_estimators': 481, 'min_samples_leaf': 13, 'min_samples_split': 14, 'max_features': 1}. Best is trial 0 with value: 0.8111575141288773.\u001b[0m\n",
      "\u001b[32m[I 2022-11-27 16:11:54,002]\u001b[0m Trial 1 finished with value: 0.8047900752216183 and parameters: {'max_depth': 7, 'n_estimators': 123, 'min_samples_leaf': 14, 'min_samples_split': 14, 'max_features': 4}. Best is trial 1 with value: 0.8047900752216183.\u001b[0m\n",
      "\u001b[32m[I 2022-11-27 16:11:58,289]\u001b[0m Trial 2 finished with value: 0.856227488352956 and parameters: {'max_depth': 5, 'n_estimators': 488, 'min_samples_leaf': 14, 'min_samples_split': 8, 'max_features': 1}. Best is trial 1 with value: 0.8047900752216183.\u001b[0m\n",
      "\u001b[32m[I 2022-11-27 16:12:02,052]\u001b[0m Trial 3 finished with value: 0.8125218614313203 and parameters: {'max_depth': 7, 'n_estimators': 222, 'min_samples_leaf': 10, 'min_samples_split': 11, 'max_features': 2}. Best is trial 1 with value: 0.8047900752216183.\u001b[0m\n",
      "\u001b[32m[I 2022-11-27 16:12:07,982]\u001b[0m Trial 4 finished with value: 0.7667233818645885 and parameters: {'max_depth': 14, 'n_estimators': 155, 'min_samples_leaf': 8, 'min_samples_split': 10, 'max_features': 3}. Best is trial 4 with value: 0.7667233818645885.\u001b[0m\n",
      "\u001b[32m[I 2022-11-27 16:12:11,199]\u001b[0m Trial 5 finished with value: 0.7745530308507638 and parameters: {'max_depth': 17, 'n_estimators': 180, 'min_samples_leaf': 10, 'min_samples_split': 14, 'max_features': 1}. Best is trial 4 with value: 0.7667233818645885.\u001b[0m\n",
      "\u001b[32m[I 2022-11-27 16:12:21,180]\u001b[0m Trial 6 finished with value: 0.7510780979846985 and parameters: {'max_depth': 14, 'n_estimators': 168, 'min_samples_leaf': 5, 'min_samples_split': 20, 'max_features': 5}. Best is trial 6 with value: 0.7510780979846985.\u001b[0m\n",
      "\u001b[32m[I 2022-11-27 16:12:30,620]\u001b[0m Trial 7 finished with value: 0.7494339135786657 and parameters: {'max_depth': 17, 'n_estimators': 222, 'min_samples_leaf': 6, 'min_samples_split': 15, 'max_features': 3}. Best is trial 7 with value: 0.7494339135786657.\u001b[0m\n",
      "\u001b[32m[I 2022-11-27 16:12:35,166]\u001b[0m Trial 8 finished with value: 0.8343809527127837 and parameters: {'max_depth': 6, 'n_estimators': 298, 'min_samples_leaf': 5, 'min_samples_split': 19, 'max_features': 2}. Best is trial 7 with value: 0.7494339135786657.\u001b[0m\n",
      "\u001b[32m[I 2022-11-27 16:12:39,075]\u001b[0m Trial 9 finished with value: 0.7985109647947298 and parameters: {'max_depth': 15, 'n_estimators': 224, 'min_samples_leaf': 10, 'min_samples_split': 13, 'max_features': 1}. Best is trial 7 with value: 0.7494339135786657.\u001b[0m\n",
      "\u001b[32m[I 2022-11-27 16:13:01,231]\u001b[0m Trial 10 finished with value: 0.7312054302216102 and parameters: {'max_depth': 20, 'n_estimators': 374, 'min_samples_leaf': 7, 'min_samples_split': 5, 'max_features': 4}. Best is trial 10 with value: 0.7312054302216102.\u001b[0m\n",
      "\u001b[32m[I 2022-11-27 16:13:24,369]\u001b[0m Trial 11 finished with value: 0.7482133189335445 and parameters: {'max_depth': 19, 'n_estimators': 386, 'min_samples_leaf': 7, 'min_samples_split': 6, 'max_features': 4}. Best is trial 10 with value: 0.7312054302216102.\u001b[0m\n",
      "\u001b[32m[I 2022-11-27 16:13:53,881]\u001b[0m Trial 12 finished with value: 0.7444114775897259 and parameters: {'max_depth': 20, 'n_estimators': 399, 'min_samples_leaf': 7, 'min_samples_split': 5, 'max_features': 5}. Best is trial 10 with value: 0.7312054302216102.\u001b[0m\n",
      "\u001b[32m[I 2022-11-27 16:14:20,992]\u001b[0m Trial 13 finished with value: 0.7389450075495047 and parameters: {'max_depth': 20, 'n_estimators': 384, 'min_samples_leaf': 8, 'min_samples_split': 5, 'max_features': 5}. Best is trial 10 with value: 0.7312054302216102.\u001b[0m\n",
      "\u001b[32m[I 2022-11-27 16:14:41,858]\u001b[0m Trial 14 finished with value: 0.7585199197102256 and parameters: {'max_depth': 18, 'n_estimators': 370, 'min_samples_leaf': 8, 'min_samples_split': 8, 'max_features': 4}. Best is trial 10 with value: 0.7312054302216102.\u001b[0m\n",
      "\u001b[32m[I 2022-11-27 16:14:57,904]\u001b[0m Trial 15 finished with value: 0.7799858716535281 and parameters: {'max_depth': 11, 'n_estimators': 320, 'min_samples_leaf': 12, 'min_samples_split': 7, 'max_features': 5}. Best is trial 10 with value: 0.7312054302216102.\u001b[0m\n",
      "\u001b[32m[I 2022-11-27 16:15:23,213]\u001b[0m Trial 16 finished with value: 0.7448975849213705 and parameters: {'max_depth': 20, 'n_estimators': 438, 'min_samples_leaf': 8, 'min_samples_split': 5, 'max_features': 4}. Best is trial 10 with value: 0.7312054302216102.\u001b[0m\n",
      "\u001b[32m[I 2022-11-27 16:15:44,344]\u001b[0m Trial 17 finished with value: 0.756338474026689 and parameters: {'max_depth': 16, 'n_estimators': 318, 'min_samples_leaf': 9, 'min_samples_split': 10, 'max_features': 5}. Best is trial 10 with value: 0.7312054302216102.\u001b[0m\n",
      "\u001b[32m[I 2022-11-27 16:16:02,896]\u001b[0m Trial 18 finished with value: 0.7834004028203573 and parameters: {'max_depth': 11, 'n_estimators': 431, 'min_samples_leaf': 11, 'min_samples_split': 17, 'max_features': 4}. Best is trial 10 with value: 0.7312054302216102.\u001b[0m\n",
      "\u001b[32m[I 2022-11-27 16:16:18,080]\u001b[0m Trial 19 finished with value: 0.7536044229999465 and parameters: {'max_depth': 18, 'n_estimators': 336, 'min_samples_leaf': 6, 'min_samples_split': 8, 'max_features': 3}. Best is trial 10 with value: 0.7312054302216102.\u001b[0m\n"
     ]
    },
    {
     "name": "stdout",
     "output_type": "stream",
     "text": [
      "Best Score: 0.7312054302216102\n",
      "Best trial: {'max_depth': 20, 'n_estimators': 374, 'min_samples_leaf': 7, 'min_samples_split': 5, 'max_features': 4}\n"
     ]
    }
   ],
   "source": [
    "sampler = TPESampler(seed=42)\n",
    "study = optuna.create_study(\n",
    "    study_name=\"rf_parameter_opt\",\n",
    "    direction=\"minimize\",\n",
    "    sampler=sampler,\n",
    ")\n",
    "study.optimize(objective, n_trials=20)\n",
    "print(\"Best Score:\", study.best_value)\n",
    "print(\"Best trial:\", study.best_trial.params)"
   ]
  },
  {
   "cell_type": "code",
   "execution_count": 197,
   "id": "585a6d79",
   "metadata": {},
   "outputs": [],
   "source": [
    "train1, test1 = train.copy(), test.copy()"
   ]
  },
  {
   "cell_type": "code",
   "execution_count": 198,
   "id": "33994778",
   "metadata": {},
   "outputs": [
    {
     "data": {
      "text/plain": [
       "((26457, 94), (10000, 94))"
      ]
     },
     "execution_count": 198,
     "metadata": {},
     "output_type": "execute_result"
    }
   ],
   "source": [
    "train_X = train1.drop(columns='credit')\n",
    "test_X = test1\n",
    "train_y = train['credit']\n",
    "train_X.shape, test_X.shape"
   ]
  },
  {
   "cell_type": "code",
   "execution_count": 239,
   "id": "bba8236b",
   "metadata": {},
   "outputs": [
    {
     "data": {
      "text/plain": [
       "((26457, 24), (10000, 24))"
      ]
     },
     "execution_count": 239,
     "metadata": {},
     "output_type": "execute_result"
    }
   ],
   "source": [
    "train_X, test_X = train_X1.copy(), test_X1.copy()\n",
    "train_X.shape, test_X.shape"
   ]
  },
  {
   "cell_type": "code",
   "execution_count": 112,
   "id": "57ceb96d",
   "metadata": {},
   "outputs": [],
   "source": [
    "model = RandomForestClassifier(**study.best_trial.params)\n",
    "cv = StratifiedKFold(n_splits=15) \n",
    "\n",
    "cr_list = []\n",
    "sub=np.zeros((test.shape[0], 3)) \n",
    "\n",
    "for train_index, test_index in cv.split(train_X, train_y) :\n",
    "    x_train, x_test = train_X.iloc[list(train_index)], train_X.iloc[list(test_index)]\n",
    "    y_train, y_test = train_y.iloc[list(train_index)], train_y.iloc[list(test_index)]\n",
    "        #x_train = PolynomialFeatures().fit_transform(x_train)\n",
    "        #x_test = PolynomialFeatures().fit_transform(x_test)\n",
    "    model = rf_model.fit(x_train,y_train)#, early_stopping_rounds=100, verbose=False)\n",
    "    pred = model.predict_proba(x_test)\n",
    "    cross_entropy = log_loss(y_test, pred)\n",
    "    cr_list.append(cross_entropy)\n",
    "    sub +=model.predict_proba(test_X)  \n",
    "\n",
    "mysubmission = sub/15\n",
    "\n",
    "score = sum(cr_list)/15"
   ]
  },
  {
   "cell_type": "code",
   "execution_count": 113,
   "id": "5cf35eb6",
   "metadata": {},
   "outputs": [
    {
     "name": "stdout",
     "output_type": "stream",
     "text": [
      "logloss: 0.7367359383863349\n"
     ]
    }
   ],
   "source": [
    "print('logloss:', score)"
   ]
  },
  {
   "cell_type": "code",
   "execution_count": 256,
   "id": "a000ff00",
   "metadata": {},
   "outputs": [],
   "source": [
    "filename = f'randomforest_{score:.3f}.csv'"
   ]
  },
  {
   "cell_type": "code",
   "execution_count": 257,
   "id": "f7c0b861",
   "metadata": {},
   "outputs": [],
   "source": [
    "submission = pd.read_csv('./data/sample_submission.csv')\n",
    "submission.loc[:,1:]=mysubmission"
   ]
  },
  {
   "cell_type": "code",
   "execution_count": 258,
   "id": "29a155ae",
   "metadata": {},
   "outputs": [],
   "source": [
    "submission.to_csv(filename, index=False)"
   ]
  }
 ],
 "metadata": {
  "kernelspec": {
   "display_name": "Python 3",
   "language": "python",
   "name": "python3"
  },
  "language_info": {
   "codemirror_mode": {
    "name": "ipython",
    "version": 3
   },
   "file_extension": ".py",
   "mimetype": "text/x-python",
   "name": "python",
   "nbconvert_exporter": "python",
   "pygments_lexer": "ipython3",
   "version": "3.8.5"
  }
 },
 "nbformat": 4,
 "nbformat_minor": 5
}
